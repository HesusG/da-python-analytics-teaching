{
 "cells": [
  {
   "cell_type": "code",
   "execution_count": 8,
   "metadata": {},
   "outputs": [],
   "source": [
    "import pandas as pd\n",
    "import seaborn as sns\n",
    "import numpy as np\n",
    "import scipy.stats as stats \n",
    "import matplotlib.pyplot as plt\n",
    "\n",
    "\n",
    "data = pd.read_csv(\"https://raw.githubusercontent.com/marsgr6/EN-online/8a1cee296279c274d8f05f3905fce97c1f7636a2/data/UX_data.csv\")"
   ]
  },
  {
   "cell_type": "markdown",
   "metadata": {},
   "source": [
    "1. .(2 pt) Escriba el código Python para construir un diagrama de cajas que muestre el\n",
    "género (Gender) en x y el tiempo de ejecución de la tarea (Time) en y."
   ]
  },
  {
   "cell_type": "code",
   "execution_count": 6,
   "metadata": {},
   "outputs": [
    {
     "data": {
      "text/plain": [
       "<AxesSubplot:xlabel='Gender', ylabel='Time'>"
      ]
     },
     "execution_count": 6,
     "metadata": {},
     "output_type": "execute_result"
    },
    {
     "data": {
      "image/png": "[encoded data removed]",
      "text/plain": [
       "<Figure size 432x288 with 1 Axes>"
      ]
     },
     "metadata": {
      "needs_background": "light"
     },
     "output_type": "display_data"
    }
   ],
   "source": [
    "sns.boxplot(x = data['Gender'],y = data['Time']) "
   ]
  },
  {
   "cell_type": "markdown",
   "metadata": {},
   "source": [
    "Mediante los gráficos boxplot podemos apreciar que existe una diferencia en el tiempo requerido para realizar la actividad ya que en la media, Q1 y Q3 tienen un desfase en ambas muestras. Apreciamos que la mediana en los varones  cercano a los 150 en tiempo y en la mujer en 179. Mediante los bigotes también puede se puede apreciar que en el género masculino existe una mayor dispersión de los datos en comparación al género femenino. El valor mínimo en los valor en los varones es de 112 y en las mujeres el valor mínimo que el individuo utilizó para completar la actividad fue de 142. No existen puntos outlayer en ambas distribuciones. Un elemeto importante en la diferencia de las muetras es el IQR, en las mujeres el intervalo de tiempo donde se encuenta al 50 porciento de los datos es menor que al de los hombres. "
   ]
  },
  {
   "cell_type": "markdown",
   "metadata": {},
   "source": [
    "2. (2 pt) Escriba el código Python para construir un diagrama de líneas con barras de error (CI:\n",
    "0.95) que muestre el género (Gender) en x y el tiempo de ejecución de la tarea (Time) en y.\n",
    "Discuta: Observa diferencia en el tiempo de ejecución de la tarea en sistema (Time) por\n",
    "los usuarios de acuerdo al género (Gender)."
   ]
  },
  {
   "cell_type": "code",
   "execution_count": 43,
   "metadata": {},
   "outputs": [
    {
     "data": {
      "text/plain": [
       "<AxesSubplot:xlabel='Gender', ylabel='Time'>"
      ]
     },
     "execution_count": 43,
     "metadata": {},
     "output_type": "execute_result"
    },
    {
     "data": {
      "image/png": "[encoded data removed]",
      "text/plain": [
       "<Figure size 432x288 with 1 Axes>"
      ]
     },
     "metadata": {
      "needs_background": "light"
     },
     "output_type": "display_data"
    }
   ],
   "source": [
    "sns.lineplot(data= data,x='Gender', y = 'Time', err_style=\"bars\", ci=95 , estimator ='mean')"
   ]
  },
  {
   "cell_type": "markdown",
   "metadata": {},
   "source": [
    "Podemos apreciar que se han construido intervalos de confianza alrededor de la media, las dos muestras respecto al genero muestran una longitud similar en los intervalo. La prinicipal diferencia esta en la media, en el caso del genero masculino es de 150 y el el caso del genero femenino es de 172. Ademas con un Ci del 95% podemos ve que los intervalos no se solapan, por lo cual podrimaos decir que si existe un diferenca del tiempo de ejecucion de la activada de las mujeres respecto a los hombres."
   ]
  },
  {
   "cell_type": "code",
   "execution_count": 40,
   "metadata": {},
   "outputs": [
    {
     "data": {
      "text/html": [
       "<div>\n",
       "<style scoped>\n",
       "    .dataframe tbody tr th:only-of-type {\n",
       "        vertical-align: middle;\n",
       "    }\n",
       "\n",
       "    .dataframe tbody tr th {\n",
       "        vertical-align: top;\n",
       "    }\n",
       "\n",
       "    .dataframe thead tr th {\n",
       "        text-align: left;\n",
       "    }\n",
       "\n",
       "    .dataframe thead tr:last-of-type th {\n",
       "        text-align: right;\n",
       "    }\n",
       "</style>\n",
       "<table border=\"1\" class=\"dataframe\">\n",
       "  <thead>\n",
       "    <tr>\n",
       "      <th></th>\n",
       "      <th colspan=\"8\" halign=\"left\">SUS</th>\n",
       "      <th colspan=\"8\" halign=\"left\">Time</th>\n",
       "    </tr>\n",
       "    <tr>\n",
       "      <th></th>\n",
       "      <th>count</th>\n",
       "      <th>mean</th>\n",
       "      <th>std</th>\n",
       "      <th>min</th>\n",
       "      <th>25%</th>\n",
       "      <th>50%</th>\n",
       "      <th>75%</th>\n",
       "      <th>max</th>\n",
       "      <th>count</th>\n",
       "      <th>mean</th>\n",
       "      <th>std</th>\n",
       "      <th>min</th>\n",
       "      <th>25%</th>\n",
       "      <th>50%</th>\n",
       "      <th>75%</th>\n",
       "      <th>max</th>\n",
       "    </tr>\n",
       "    <tr>\n",
       "      <th>Gender</th>\n",
       "      <th></th>\n",
       "      <th></th>\n",
       "      <th></th>\n",
       "      <th></th>\n",
       "      <th></th>\n",
       "      <th></th>\n",
       "      <th></th>\n",
       "      <th></th>\n",
       "      <th></th>\n",
       "      <th></th>\n",
       "      <th></th>\n",
       "      <th></th>\n",
       "      <th></th>\n",
       "      <th></th>\n",
       "      <th></th>\n",
       "      <th></th>\n",
       "    </tr>\n",
       "  </thead>\n",
       "  <tbody>\n",
       "    <tr>\n",
       "      <th>F</th>\n",
       "      <td>10.0</td>\n",
       "      <td>74.000</td>\n",
       "      <td>17.328525</td>\n",
       "      <td>40.0</td>\n",
       "      <td>66.250</td>\n",
       "      <td>77.5</td>\n",
       "      <td>87.5</td>\n",
       "      <td>92.5</td>\n",
       "      <td>10.0</td>\n",
       "      <td>172.190</td>\n",
       "      <td>15.656341</td>\n",
       "      <td>144.0</td>\n",
       "      <td>165.975</td>\n",
       "      <td>175.50</td>\n",
       "      <td>184.75</td>\n",
       "      <td>188.3</td>\n",
       "    </tr>\n",
       "    <tr>\n",
       "      <th>M</th>\n",
       "      <td>20.0</td>\n",
       "      <td>77.125</td>\n",
       "      <td>13.432948</td>\n",
       "      <td>42.5</td>\n",
       "      <td>69.375</td>\n",
       "      <td>80.0</td>\n",
       "      <td>87.5</td>\n",
       "      <td>95.0</td>\n",
       "      <td>20.0</td>\n",
       "      <td>150.155</td>\n",
       "      <td>21.893582</td>\n",
       "      <td>112.7</td>\n",
       "      <td>135.600</td>\n",
       "      <td>148.65</td>\n",
       "      <td>167.30</td>\n",
       "      <td>185.3</td>\n",
       "    </tr>\n",
       "  </tbody>\n",
       "</table>\n",
       "</div>"
      ],
      "text/plain": [
       "         SUS                                                     Time  \\\n",
       "       count    mean        std   min     25%   50%   75%   max count   \n",
       "Gender                                                                  \n",
       "F       10.0  74.000  17.328525  40.0  66.250  77.5  87.5  92.5  10.0   \n",
       "M       20.0  77.125  13.432948  42.5  69.375  80.0  87.5  95.0  20.0   \n",
       "\n",
       "                                                                   \n",
       "           mean        std    min      25%     50%     75%    max  \n",
       "Gender                                                             \n",
       "F       172.190  15.656341  144.0  165.975  175.50  184.75  188.3  \n",
       "M       150.155  21.893582  112.7  135.600  148.65  167.30  185.3  "
      ]
     },
     "execution_count": 40,
     "metadata": {},
     "output_type": "execute_result"
    }
   ],
   "source": [
    "data.groupby('Gender').describe()"
   ]
  },
  {
   "cell_type": "markdown",
   "metadata": {},
   "source": [
    "3. (2 pt) Escriba el código Python para construir un diagrama de densidad que muestre el\n",
    "género (Gender) en x y el tiempo de ejecución de la tarea (Time) en y.\n",
    "Discuta: Observa diferencia en el tiempo de ejecución de la tarea en sistema (Time) por\n",
    "los usuarios de acuerdo al género (Gender).\n",
    "\n"
   ]
  },
  {
   "cell_type": "code",
   "execution_count": 66,
   "metadata": {},
   "outputs": [
    {
     "data": {
      "text/plain": [
       "<AxesSubplot:xlabel='Time', ylabel='Density'>"
      ]
     },
     "execution_count": 66,
     "metadata": {},
     "output_type": "execute_result"
    },
    {
     "data": {
      "image/png": "[encoded data removed]",
      "text/plain": [
       "<Figure size 432x288 with 1 Axes>"
      ]
     },
     "metadata": {
      "needs_background": "light"
     },
     "output_type": "display_data"
    }
   ],
   "source": [
    "\n",
    "sns.kdeplot(data=data,x= 'Time',hue='Gender', fill=True, common_norm= False, alpha= 0.2)\n"
   ]
  },
  {
   "cell_type": "markdown",
   "metadata": {},
   "source": [
    "A primera vista se pude obsevar que si existe una direncia entre la densidad de las dos muestras. En primer lugar la media de la poblacion masculona el menor que la la poblacion del genero femenino. Ademas existe una mayor dispecion de los datos y por lo tanto mayor desvias estandar en el genero masculino. "
   ]
  },
  {
   "cell_type": "markdown",
   "metadata": {},
   "source": [
    "4. (2 pt) Realice una prueba de dos varianzas para los grupos masculino y femenino (Gender).\n",
    "Escriba (reutilce) el código Python.\n",
    "Discuta los resultados."
   ]
  },
  {
   "cell_type": "code",
   "execution_count": 68,
   "metadata": {},
   "outputs": [],
   "source": [
    "# importamos distribución F\n",
    "from scipy.stats import f\n",
    "\n",
    "def f_test(*args, alpha=0.05, alternative='two-sided'):\n",
    "    # *args: array o lista\n",
    "    if len(args) == 2:\n",
    "        x = np.array(args[0])\n",
    "        y = np.array(args[1])\n",
    "        dfx = x.size-1  # define grados de libertad del numerador \n",
    "        dfy = y.size-1  # define grados de libertad del denominador \n",
    "        fp = np.var(x, ddof=1)/np.var(y, ddof=1)  # calcula F test statistic \n",
    "    # *args: varianzas\n",
    "    else:\n",
    "        fp = args[0] / args[1]  # calcula F test statistic\n",
    "        nx = args[2]\n",
    "        ny = args[3]\n",
    "        dfx = nx-1  # define grados de libertad del numerador\n",
    "        dfy = ny-1  # define grados de libertad del denominador \n",
    "    \n",
    "    alpha_c = alpha\n",
    "    if alternative=='two-sided': alpha_c = alpha_c / 2\n",
    "    f_critical = f.ppf(alpha_c, dfx, dfy), f.ppf(1-alpha_c, dfx, dfy)\n",
    "    f_areas = f.cdf(fp, dfx, dfy), 1-f.cdf(fp, dfx, dfy)  # areas colas\n",
    "    \n",
    "    colas = {'less': {'p-value': f_areas[0], \"f-value\": f_critical[0]}, \n",
    "             'greater': {'p-value': f_areas[1], \"f-value\": f_critical[1]},\n",
    "             'two-sided': {'p-value': min(f_areas)*2, \"f-value\": f_critical}\n",
    "            }\n",
    "    return {\"F-test result\": {\"statistic\": fp, \n",
    "                       \"p-value\": colas[alternative]['p-value']},\n",
    "                       \"f-value\": colas[alternative]['f-value'],\n",
    "                       \"alpha\": alpha}\n",
    "\n"
   ]
  },
  {
   "cell_type": "code",
   "execution_count": 69,
   "metadata": {},
   "outputs": [
    {
     "data": {
      "text/plain": [
       "{'F-test result': {'statistic': 1.9554788086399444,\n",
       "  'p-value': 0.3032106717119911},\n",
       " 'f-value': (0.34721594741232176, 3.6833380832180525),\n",
       " 'alpha': 0.05}"
      ]
     },
     "execution_count": 69,
     "metadata": {},
     "output_type": "execute_result"
    }
   ],
   "source": [
    "masculino=data.query('Gender== \"M\"')['Time']\n",
    "femenino= data.query('Gender== \"F\"')['Time']\n",
    "f_test(masculino, femenino)"
   ]
  },
  {
   "cell_type": "markdown",
   "metadata": {},
   "source": [
    "Con los resultados obtenidos en p value se pude observar que\n",
    "$$ p−value>α $$\n",
    "Por lo tanto con $ \\alpha= 0.5$, no existe suficiente evidencia para descartar la hipotesis nula, es decir podemos considerar que las varianzas son iguales."
   ]
  },
  {
   "cell_type": "markdown",
   "metadata": {},
   "source": [
    "5.(2 pt) A partir de la prueba anterior realice una prueba de diferencias de medias para los\n",
    "grupos masculino y femenino (Gender).\n",
    "Escriba (reutilce) el código Python.\n",
    "Discuta los resultados"
   ]
  },
  {
   "cell_type": "code",
   "execution_count": 72,
   "metadata": {},
   "outputs": [
    {
     "data": {
      "text/plain": [
       "(Ttest_indResult(statistic=2.8304210808891264, pvalue=0.00850683391306472),\n",
       " 'Diferencia',\n",
       " 22.034999999999968)"
      ]
     },
     "execution_count": 72,
     "metadata": {},
     "output_type": "execute_result"
    }
   ],
   "source": [
    "from scipy.stats import ttest_ind\n",
    "\n",
    "# filtramos datos\n",
    "hombres = data[data['Gender']=='M']['Time']\n",
    "mujeres = data[data['Gender']=='F']['Time']\n",
    "\n",
    "mx = mujeres.mean()\n",
    "my = hombres.mean()\n",
    "\n",
    "# Asumimos varianzas iguales equal_var=True\n",
    "# y prueba de dos colas alternative='two-sided'\n",
    "# alternative: {'two-sided', 'less', 'greater'}\n",
    "ttest_ind(mujeres, hombres, \n",
    "          equal_var=True, alternative='two-sided'), \"Diferencia\", mx - my\n"
   ]
  },
  {
   "cell_type": "markdown",
   "metadata": {},
   "source": [
    "Guiandonos en los resultados obtenido del p value 0.0085, podemos concluir que existen pruebas suficientes para reclazar la hipotesis nula. Por lo tanto, si existe deferencia entre las dos medias poblacionales. Mediante esta prueba hemos logrado demostras que si existe diferencias respecto al genero, en el tiempo utilizado para realizar la actividad en la consola."
   ]
  }
 ],
 "metadata": {
  "interpreter": {
   "hash": "c629e06671d42d262ce370bbb00ab382667744bfebe13cb1c7262c94987f6270"
  },
  "kernelspec": {
   "display_name": "Python 3.9.12 ('base')",
   "language": "python",
   "name": "python3"
  },
  "language_info": {
   "codemirror_mode": {
    "name": "ipython",
    "version": 3
   },
   "file_extension": ".py",
   "mimetype": "text/x-python",
   "name": "python",
   "nbconvert_exporter": "python",
   "pygments_lexer": "ipython3",
   "version": "3.9.12"
  },
  "orig_nbformat": 4
 },
 "nbformat": 4,
 "nbformat_minor": 2
}
